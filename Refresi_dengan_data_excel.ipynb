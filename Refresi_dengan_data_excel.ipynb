{
  "nbformat": 4,
  "nbformat_minor": 0,
  "metadata": {
    "colab": {
      "private_outputs": true,
      "provenance": []
    },
    "kernelspec": {
      "name": "python3",
      "display_name": "Python 3"
    },
    "language_info": {
      "name": "python"
    }
  },
  "cells": [
    {
      "cell_type": "code",
      "execution_count": null,
      "metadata": {
        "id": "Wslf0HjXX8F4"
      },
      "outputs": [],
      "source": [
        "import numpy as np\n",
        "import pandas as pd\n",
        "import matplotlib.pyplot as plt\n",
        "import sklearn"
      ]
    },
    {
      "cell_type": "code",
      "source": [
        "import pandas as pd\n",
        "\n",
        "dataset = pd.read_excel('/content/Data Penjualan.xlsx')\n",
        "x = dataset.iloc[:, :-1]\n",
        "y = dataset.iloc[:, :1]"
      ],
      "metadata": {
        "id": "jsw16Eg4Ygf8"
      },
      "execution_count": null,
      "outputs": []
    },
    {
      "cell_type": "code",
      "source": [
        "dataset.keys()"
      ],
      "metadata": {
        "id": "znSfJO0sZsFq"
      },
      "execution_count": null,
      "outputs": []
    },
    {
      "cell_type": "code",
      "source": [
        "dataset.shape"
      ],
      "metadata": {
        "id": "4dMTP8QfaYna"
      },
      "execution_count": null,
      "outputs": []
    },
    {
      "cell_type": "code",
      "source": [
        "dataku=pd.DataFrame(dataset)\n",
        "dataku.head()"
      ],
      "metadata": {
        "id": "gpwdqPiAadwe"
      },
      "execution_count": null,
      "outputs": []
    },
    {
      "cell_type": "code",
      "source": [
        "from sklearn.model_selection import train_test_split\n",
        "x_train, x_test, y_train, y_test= train_test_split(x,y, test_size= 0.2, random_state=0)"
      ],
      "metadata": {
        "id": "cI4x6SsUbjCV"
      },
      "execution_count": null,
      "outputs": []
    },
    {
      "cell_type": "code",
      "source": [
        "from sklearn.linear_model import LinearRegression\n",
        "regressor= LinearRegression()\n",
        "regressor.fit(x_train,y_train)"
      ],
      "metadata": {
        "id": "llDcXMqUc2Mm"
      },
      "execution_count": null,
      "outputs": []
    },
    {
      "cell_type": "code",
      "source": [
        "y_pred = regressor.predict(x_test)"
      ],
      "metadata": {
        "id": "NJz8jBzGdjoL"
      },
      "execution_count": null,
      "outputs": []
    },
    {
      "cell_type": "code",
      "source": [
        "plt.scatter(dataku.BiayaProduksi, dataku.NilaiPenjualan)\n",
        "plt.xlabel('biaya Produksi')\n",
        "plt.ylabel('Nilai Penjualan')\n",
        "plt.title('Grafik Biaya Produksi vc Nilai Penjualan')\n",
        "plt.show"
      ],
      "metadata": {
        "id": "asuPn2V1d8LS"
      },
      "execution_count": null,
      "outputs": []
    },
    {
      "cell_type": "code",
      "source": [
        "plt.figure(figsize=(10, 8))\n",
        "plt.scatter(x_train,y_train, color ='blue')\n",
        "plt.plot(x_train,regressor.predict(x_train), color ='red')\n",
        "plt.title('Biaya Produksi terhadap Penjualan (Training Set)')\n",
        "plt.xlabel('Biaya produksi')\n",
        "plt.ylabel('Penjualan')\n",
        "plt.show"
      ],
      "metadata": {
        "id": "9PFh-cRse8X7"
      },
      "execution_count": null,
      "outputs": []
    },
    {
      "cell_type": "code",
      "source": [
        "plt.figure(figsize=(10, 8))\n",
        "plt.scatter(x_train,y_train, color ='blue')\n",
        "plt.plot(x_train,regressor.predict(x_train), color ='red')\n",
        "plt.title('Biaya Produksi terhadap Penjualan (Test Set)')\n",
        "plt.xlabel('Biaya produksi')\n",
        "plt.ylabel('Penjualan')\n",
        "plt.show"
      ],
      "metadata": {
        "id": "GgMLdwwYfPCj"
      },
      "execution_count": null,
      "outputs": []
    },
    {
      "cell_type": "code",
      "source": [],
      "metadata": {
        "id": "DOBbGQWGhA8_"
      },
      "execution_count": null,
      "outputs": []
    }
  ]
}