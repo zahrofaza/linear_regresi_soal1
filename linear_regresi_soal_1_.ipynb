{
  "nbformat": 4,
  "nbformat_minor": 0,
  "metadata": {
    "colab": {
      "private_outputs": true,
      "provenance": []
    },
    "kernelspec": {
      "name": "python3",
      "display_name": "Python 3"
    },
    "language_info": {
      "name": "python"
    }
  },
  "cells": [
    {
      "cell_type": "code",
      "execution_count": null,
      "metadata": {
        "id": "nwTrhl5MLt7_"
      },
      "outputs": [],
      "source": [
        "from scipy import stats"
      ]
    },
    {
      "cell_type": "code",
      "source": [
        "x = [151,174,138, 186,128,136,179,163,152,131]"
      ],
      "metadata": {
        "id": "FopLz_eiNRbR"
      },
      "execution_count": null,
      "outputs": []
    },
    {
      "cell_type": "code",
      "source": [
        "y = [63, 81, 56, 91, 47,57,76, 72,63,48]"
      ],
      "metadata": {
        "id": "kCRow-GMOGye"
      },
      "execution_count": null,
      "outputs": []
    },
    {
      "cell_type": "code",
      "source": [
        "slope, intercept,r,p,std_err=stats.linregress(x,y)"
      ],
      "metadata": {
        "id": "hP9YcS2CTypt"
      },
      "execution_count": null,
      "outputs": []
    },
    {
      "cell_type": "code",
      "source": [
        "def myfunc(x):\n",
        "  return slope *x+intercept"
      ],
      "metadata": {
        "id": "ra_HTnK3UMik"
      },
      "execution_count": null,
      "outputs": []
    },
    {
      "cell_type": "code",
      "source": [
        "berat_badan = myfunc(151)"
      ],
      "metadata": {
        "id": "4UCVL63zW45B"
      },
      "execution_count": null,
      "outputs": []
    },
    {
      "cell_type": "code",
      "source": [
        "print (berat_badan)"
      ],
      "metadata": {
        "id": "c7fxoZXAXCZX"
      },
      "execution_count": null,
      "outputs": []
    },
    {
      "cell_type": "code",
      "source": [],
      "metadata": {
        "id": "2uzH_0KMXNZQ"
      },
      "execution_count": null,
      "outputs": []
    }
  ]
}